{
 "cells": [
  {
   "cell_type": "markdown",
   "metadata": {},
   "source": [
    "1 (re)prezentacija simboličkih izraza: obuhvaća konverziju u LaTeX, DOT (Graphviz), pprint, ili transformacije izraza koje se automatski izvode pri njihovom pretvaranju u simboličku reprezentaciju\n",
    "\n",
    "2 linearna algebra, (simbolički) matrični/vektorski račun (dobar primjer je ono simboličko potenciranje matrice s kraja bilježnice s \"predavanja\", ali naravno, ne možete koristiti baš taj primjer: )\n",
    "\n",
    "5 logika i zaključivanje (ask / assumptions / refine, upiti o svojstvima matematičkih objekata)\n",
    "\n",
    "6 algebarske manipulacije (pozitivni primjer će vjerojatno biti neki impresivni .simplify ili .factor, možda expand_func; naravno, negativni primjer može biti bilo što: )"
   ]
  },
  {
   "cell_type": "code",
   "execution_count": null,
   "metadata": {},
   "outputs": [],
   "source": []
  },
  {
   "cell_type": "code",
   "execution_count": 32,
   "metadata": {},
   "outputs": [],
   "source": [
    "import sympy as sp\n",
    "sp.init_printing()"
   ]
  },
  {
   "cell_type": "markdown",
   "metadata": {},
   "source": [
    "1 (re)prezentacija simboličkih izraza: obuhvaća konverziju u LaTeX, DOT (Graphviz), pprint, ili transformacije izraza koje se automatski izvode pri njihovom pretvaranju u simboličku reprezentaciju"
   ]
  },
  {
   "cell_type": "code",
   "execution_count": 58,
   "metadata": {},
   "outputs": [
    {
     "data": {
      "image/png": "[encoded data removed]",
      "text/latex": [
       "$\\displaystyle \\iiiint \\frac{1}{x^{2}}\\, dx\\, dy\\, dx\\, dy$"
      ],
      "text/plain": [
       "⌠ ⌠ ⌠ ⌠               \n",
       "⎮ ⎮ ⎮ ⎮ 1             \n",
       "⎮ ⎮ ⎮ ⎮ ── dx dy dx dy\n",
       "⎮ ⎮ ⎮ ⎮  2            \n",
       "⎮ ⎮ ⎮ ⎮ x             \n",
       "⌡ ⌡ ⌡ ⌡               "
      ]
     },
     "execution_count": 58,
     "metadata": {},
     "output_type": "execute_result"
    }
   ],
   "source": []
  },
  {
   "cell_type": "markdown",
   "metadata": {},
   "source": [
    "**Geometrija**\n",
    "\n",
    "**Def:** Srednjica je dužina koja spaja polovišta dvije stranice trokuta.\n",
    "\n",
    "**Tvrdnja:** \n",
    "\n",
    "**a)** Srednjica koja spaja polovišta stranica a i b trokuta ABC paralelna je trećoj (preostaloj stranici c)\n",
    "\n",
    "**b)** Duljina srednjice jednaka je 1/2 duljine stranice c.\n",
    "\n",
    "\\* Ovo smo dokazivali na kolegiju Elementarna matematika 2, ali ovdje to možemo provjeriti za neki trokut određen s 3 stranice. (nije dokaz!) "
   ]
  },
  {
   "cell_type": "code",
   "execution_count": 30,
   "metadata": {},
   "outputs": [
    {
     "name": "stdout",
     "output_type": "stream",
     "text": [
      "vrijedi a\n",
      "vrijedi b\n",
      "\n",
      "vrijedi a\n",
      "vrijedi b\n"
     ]
    }
   ],
   "source": [
    "from sympy.geometry import Triangle, Line, Point, Segment\n",
    "\n",
    "def srednjica(A,B,C):\n",
    "    s1 = Segment(A,B)\n",
    "    s2 = Segment(B,C)\n",
    "    s3 = Segment(C,A)\n",
    "    srednjica = Segment(s1.midpoint, s2.midpoint)\n",
    "    if srednjica.length == s3.length/2:\n",
    "        print('vrijedi a')\n",
    "    l1 = Line(s1.midpoint,s2.midpoint)\n",
    "    l2 = Line(A,C)\n",
    "    if Line.is_parallel(l1,l2):\n",
    "        print('vrijedi b')\n",
    "\n",
    "srednjica((1,0),(0,1),(1,1)) # preostala stranica iz tvrdnje je AC\n",
    "print()\n",
    "srednjica((1,1),(5,2),(-1,7))\n"
   ]
  },
  {
   "cell_type": "markdown",
   "metadata": {},
   "source": [
    "**Integral** (Gabrielov rog) Računamo oplošje i volumen tijela dobivenog rotacijom funkcije $f(x)=\\dfrac{1}{x}$ oko x osi od 1 do beskonačno. Volumen takvog tijela bi trebao ispasti konačan broj, a oplošje beskonačno. "
   ]
  },
  {
   "cell_type": "code",
   "execution_count": 46,
   "metadata": {},
   "outputs": [
    {
     "data": {
      "image/png": "[encoded data removed]",
      "text/latex": [
       "$\\displaystyle \\frac{\\Gamma\\left(- \\frac{1}{6}\\right) {{}_{2}F_{1}\\left(\\begin{matrix} - \\frac{1}{2}, - \\frac{1}{6} \\\\ \\frac{5}{6} \\end{matrix}\\middle| {4 e^{i \\pi}} \\right)}}{6 \\Gamma\\left(\\frac{5}{6}\\right)} + \\infty \\operatorname{sign}{\\left({{}_{2}F_{1}\\left(\\begin{matrix} - \\frac{1}{2}, - \\frac{1}{6} \\\\ \\frac{5}{6} \\end{matrix}\\middle| {0} \\right)} \\right)}$"
      ],
      "text/plain": [
       "         ┌─  ⎛-1/2, -1/6 │    ⅈ⋅π⎞                                \n",
       "Γ(-1/6)⋅ ├─  ⎜           │ 4⋅ℯ   ⎟                                \n",
       "        2╵ 1 ⎝   5/6     │       ⎠         ⎛ ┌─  ⎛-1/2, -1/6 │  ⎞⎞\n",
       "────────────────────────────────── + ∞⋅sign⎜ ├─  ⎜           │ 0⎟⎟\n",
       "             6⋅Γ(5/6)                      ⎝2╵ 1 ⎝   5/6     │  ⎠⎠"
      ]
     },
     "execution_count": 46,
     "metadata": {},
     "output_type": "execute_result"
    }
   ],
   "source": [
    "from sympy.abc import x, z\n",
    "\n",
    "sp.Integral((1/(x**2)), (x, 1, sp.oo)).doit()\n",
    "\n",
    "z = sp.Derivative((1/x**2), x).doit()\n",
    "sp.Integral((sp.sqrt(1+z**2)) ,(x, 1, sp.oo)).doit()"
   ]
  }
 ],
 "metadata": {
  "kernelspec": {
   "display_name": "Python 3",
   "language": "python",
   "name": "python3"
  },
  "language_info": {
   "codemirror_mode": {
    "name": "ipython",
    "version": 3
   },
   "file_extension": ".py",
   "mimetype": "text/x-python",
   "name": "python",
   "nbconvert_exporter": "python",
   "pygments_lexer": "ipython3",
   "version": "3.7.6"
  }
 },
 "nbformat": 4,
 "nbformat_minor": 4
}
